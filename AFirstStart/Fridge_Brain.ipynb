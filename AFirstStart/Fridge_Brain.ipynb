{
  "nbformat": 4,
  "nbformat_minor": 0,
  "metadata": {
    "colab": {
      "name": "Fridge Brain.ipynb",
      "provenance": [],
      "collapsed_sections": []
    },
    "kernelspec": {
      "name": "python3",
      "display_name": "Python 3"
    }
  },
  "cells": [
    {
      "cell_type": "markdown",
      "metadata": {
        "id": "LyaYuFuEIEcn"
      },
      "source": [
        "# Give life back to your fridge! ❄\n",
        "### 🎥[video](https://youtu.be/B8GR3zkeuDc?t=2336)\n",
        "\n",
        "At the peak of the worst heatwave you're frige brain dies strucked by lighting!   \n",
        "Your mission : re-build your fridge's brain, better... stronger... faster... (in simulation first)\n",
        "\n",
        "\n",
        "![old ad for a fridge](https://i.pinimg.com/originals/19/00/c6/1900c6645fd997ed627d2dba89cacc67.jpg)\n",
        "\n",
        "\n"
      ]
    },
    {
      "cell_type": "markdown",
      "metadata": {
        "id": "oRgUvBAaSpsR"
      },
      "source": [
        "What variables we need ?\n",
        "- a way to measure the temperature ? **tMeasured**\n",
        "- a way to read the desired temperature ? **tWished**\n",
        "- a compressor to remove heat from the inside? **compressor**\n",
        "\n",
        "Careful the compressor can't be switch on or off very often.   \n",
        "We need to define a maximale and minimale temperature to switch it on of off\n",
        "\n",
        "**tMax** = tWished + 2   \n",
        "**tMin** = tWished - 2\n",
        "\n",
        "We will also need a timer (to wait between 2 measures). \n",
        "\n",
        "Simulate your fridge if,\n",
        "-  it goes up 1C each second if compressor off (not realist but for testing)\n",
        "-  it goes down each second if compressor on\n",
        "- you begin with,\n",
        "  - compressor = True\n",
        "  - tMeasured = 3\n",
        "  - tWished = 4\n",
        "\n",
        "\n",
        "Solution below, try to find YOUR solution first!\n",
        "\n",
        "\n",
        "\n"
      ]
    },
    {
      "cell_type": "code",
      "metadata": {
        "colab": {
          "base_uri": "https://localhost:8080/"
        },
        "id": "rlFwzOkSVFES",
        "outputId": "982cf787-9d0c-4b1a-d91c-b994eefaea3c"
      },
      "source": [
        "import time\n",
        "\n",
        "compressor = True\n",
        "tMeasured = 3\n",
        "tWished = 4\n",
        "tMax = tWished + 2\n",
        "tMin = tWished - 2\n",
        "\n",
        "for i in range(30):\n",
        "    time.sleep(1)\n",
        "    # simulation \n",
        "    if compressor == True:\n",
        "        tMeasured -= 1\n",
        "    if compressor == False:\n",
        "        tMeasured += 1\n",
        "    # fridge brain\n",
        "    if tMeasured > tMax:\n",
        "        compressor = True\n",
        "    if tMeasured < tMin:\n",
        "        compressor = False\n",
        "    print(\"tMeasured\", tMeasured, \"Compressor\", compressor)"
      ],
      "execution_count": null,
      "outputs": [
        {
          "output_type": "stream",
          "name": "stdout",
          "text": [
            "tMeasured 2 Compressor True\n",
            "tMeasured 1 Compressor False\n",
            "tMeasured 2 Compressor False\n",
            "tMeasured 3 Compressor False\n",
            "tMeasured 4 Compressor False\n",
            "tMeasured 5 Compressor False\n",
            "tMeasured 6 Compressor False\n",
            "tMeasured 7 Compressor True\n",
            "tMeasured 6 Compressor True\n",
            "tMeasured 5 Compressor True\n",
            "tMeasured 4 Compressor True\n",
            "tMeasured 3 Compressor True\n",
            "tMeasured 2 Compressor True\n",
            "tMeasured 1 Compressor False\n",
            "tMeasured 2 Compressor False\n",
            "tMeasured 3 Compressor False\n",
            "tMeasured 4 Compressor False\n",
            "tMeasured 5 Compressor False\n",
            "tMeasured 6 Compressor False\n",
            "tMeasured 7 Compressor True\n",
            "tMeasured 6 Compressor True\n",
            "tMeasured 5 Compressor True\n",
            "tMeasured 4 Compressor True\n",
            "tMeasured 3 Compressor True\n",
            "tMeasured 2 Compressor True\n",
            "tMeasured 1 Compressor False\n",
            "tMeasured 2 Compressor False\n",
            "tMeasured 3 Compressor False\n",
            "tMeasured 4 Compressor False\n",
            "tMeasured 5 Compressor False\n"
          ]
        }
      ]
    },
    {
      "cell_type": "code",
      "metadata": {
        "id": "vqpCfEMLTNQ1"
      },
      "source": [
        ""
      ],
      "execution_count": null,
      "outputs": []
    },
    {
      "cell_type": "markdown",
      "metadata": {
        "id": "uvJ3QSxbavve"
      },
      "source": [
        "Try now to log the tMeasured in a list"
      ]
    },
    {
      "cell_type": "code",
      "metadata": {
        "colab": {
          "base_uri": "https://localhost:8080/"
        },
        "id": "y_GBo7IRa2St",
        "outputId": "3acc7c11-ab23-44b3-bd86-a47061ab9226"
      },
      "source": [
        "import time\n",
        "\n",
        "log = [] #a log for tMeasured\n",
        "\n",
        "compressor = True\n",
        "tMeasured = 3\n",
        "tWished = 4\n",
        "tMax = tWished + 2\n",
        "tMin = tWished - 2\n",
        "\n",
        "for i in range(30):\n",
        "    time.sleep(1)\n",
        "    if compressor == True:\n",
        "        tMeasured -= 1\n",
        "    if compressor == False:\n",
        "        tMeasured += 1\n",
        "    if tMeasured > tMax:\n",
        "        compressor = True\n",
        "    if tMeasured < tMin:\n",
        "        compressor = False\n",
        "    print(\"tMeasured\", tMeasured, \"Compressor\", compressor)\n",
        "    log.append(tMeasured)\n",
        "  \n",
        "print(log)"
      ],
      "execution_count": null,
      "outputs": [
        {
          "output_type": "stream",
          "name": "stdout",
          "text": [
            "tMeasured 2 Compressor True\n",
            "tMeasured 1 Compressor False\n",
            "tMeasured 2 Compressor False\n",
            "tMeasured 3 Compressor False\n",
            "tMeasured 4 Compressor False\n",
            "tMeasured 5 Compressor False\n",
            "tMeasured 6 Compressor False\n",
            "tMeasured 7 Compressor True\n",
            "tMeasured 6 Compressor True\n",
            "tMeasured 5 Compressor True\n",
            "tMeasured 4 Compressor True\n",
            "tMeasured 3 Compressor True\n",
            "tMeasured 2 Compressor True\n",
            "tMeasured 1 Compressor False\n",
            "tMeasured 2 Compressor False\n",
            "tMeasured 3 Compressor False\n",
            "tMeasured 4 Compressor False\n",
            "tMeasured 5 Compressor False\n",
            "tMeasured 6 Compressor False\n",
            "tMeasured 7 Compressor True\n",
            "tMeasured 6 Compressor True\n",
            "tMeasured 5 Compressor True\n",
            "tMeasured 4 Compressor True\n",
            "tMeasured 3 Compressor True\n",
            "tMeasured 2 Compressor True\n",
            "tMeasured 1 Compressor False\n",
            "tMeasured 2 Compressor False\n",
            "tMeasured 3 Compressor False\n",
            "tMeasured 4 Compressor False\n",
            "tMeasured 5 Compressor False\n",
            "[2, 1, 2, 3, 4, 5, 6, 7, 6, 5, 4, 3, 2, 1, 2, 3, 4, 5, 6, 7, 6, 5, 4, 3, 2, 1, 2, 3, 4, 5]\n"
          ]
        }
      ]
    },
    {
      "cell_type": "code",
      "metadata": {
        "id": "hQWktdNvpppG"
      },
      "source": [
        ""
      ],
      "execution_count": null,
      "outputs": []
    },
    {
      "cell_type": "markdown",
      "metadata": {
        "id": "ZXwezcOjqjbE"
      },
      "source": [
        "And now try to plot the temprerature log!"
      ]
    },
    {
      "cell_type": "code",
      "metadata": {
        "id": "5NokckSyqmsH",
        "colab": {
          "base_uri": "https://localhost:8080/",
          "height": 283
        },
        "outputId": "d61ac2dd-cd50-4634-f02c-52f53fa227aa"
      },
      "source": [
        "import matplotlib.pyplot as plt\n",
        "plt.plot(log)"
      ],
      "execution_count": null,
      "outputs": [
        {
          "output_type": "execute_result",
          "data": {
            "text/plain": [
              "[<matplotlib.lines.Line2D at 0x7fe10cc71250>]"
            ]
          },
          "metadata": {},
          "execution_count": 3
        },
        {
          "output_type": "display_data",
          "data": {
            "image/png": "[encoded data removed]",
            "text/plain": [
              "<Figure size 432x288 with 1 Axes>"
            ]
          },
          "metadata": {
            "needs_background": "light"
          }
        }
      ]
    },
    {
      "cell_type": "code",
      "metadata": {
        "id": "aFJkIww_qpwh"
      },
      "source": [
        ""
      ],
      "execution_count": null,
      "outputs": []
    }
  ]
}