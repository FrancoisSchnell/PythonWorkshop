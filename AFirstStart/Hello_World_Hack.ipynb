{
  "nbformat": 4,
  "nbformat_minor": 0,
  "metadata": {
    "colab": {
      "name": "Hello World Hack.ipynb",
      "provenance": [],
      "collapsed_sections": []
    },
    "kernelspec": {
      "name": "python3",
      "display_name": "Python 3"
    }
  },
  "cells": [
    {
      "cell_type": "markdown",
      "metadata": {
        "id": "D4-lcL8ME4xC"
      },
      "source": [
        "# First steps in Python, hacking \"Hello World\" 🌍!\n",
        "### 🎥[video](https://www.youtube.com/watch?v=B8GR3zkeuDc&t=620s)\n",
        "\n",
        "![](https://i.pinimg.com/564x/eb/1b/f3/eb1bf3a17c4e1ac3988e77e6b5ecffa7.jpg)\n",
        "\n",
        "Picture [source](https://www.pinterest.fr/pin/242420392411892581/)\n",
        "\n",
        "Goals ⚽\n",
        "\n",
        "- Hack [\"hello world\"](https://en.wikipedia.org/wiki/%22Hello,_World!%22_program) to greet participants (Ana, Barbara, Cecilia...) and introduce different programing concept along the way 💡 \n",
        "    -  📦 [variables](https://www.w3schools.com/python/python_variables.asp) (containers for storing data values)\n",
        "    - 💬 [comments](https://www.w3schools.com/python/python_comments.asp) (to explain or prevent execution)\n",
        "    -  📃 [lists](https://www.w3schools.com/python/python_lists.asp) (storing multiple items in a variable)\n",
        "    -  ➰ [for](https://www.w3schools.com/python/python_for_loops.asp) (loops)\n",
        "    -  📢 [function](https://www.w3schools.com/python/python_functions.asp) (block a code which can be called)\n",
        "    -  📚 [dictionary](https://www.w3schools.com/python/python_dictionaries.asp)  (sotre data key-values pairs)\n",
        "    - ⁉ [if](https://www.w3schools.com/python/python_conditions.asp) (conditions)"
      ]
    },
    {
      "cell_type": "code",
      "metadata": {
        "colab": {
          "base_uri": "https://localhost:8080/"
        },
        "id": "p7pHyZP9EyJr",
        "outputId": "a046d87b-6a3d-49b0-f823-f6ea31d67612"
      },
      "source": [
        "print(\"Hello World\")"
      ],
      "execution_count": null,
      "outputs": [
        {
          "output_type": "stream",
          "name": "stdout",
          "text": [
            "Hello World\n"
          ]
        }
      ]
    },
    {
      "cell_type": "markdown",
      "metadata": {
        "id": "ez9U1_4ibNZu"
      },
      "source": [
        "Let's copy, change and add to it (experimenting!) 🛠"
      ]
    },
    {
      "cell_type": "code",
      "metadata": {
        "colab": {
          "base_uri": "https://localhost:8080/"
        },
        "id": "DajVr_p9FcnQ",
        "outputId": "878c176f-508a-450f-aa84-ac9736628b0f"
      },
      "source": [
        "print(\"Hello Ana\")\n",
        "print(\"Hope you're doing well\")"
      ],
      "execution_count": null,
      "outputs": [
        {
          "output_type": "stream",
          "name": "stdout",
          "text": [
            "Hello Ana\n",
            "Hope you're doing well\n"
          ]
        }
      ]
    },
    {
      "cell_type": "markdown",
      "metadata": {
        "id": "15zTYJvkbvr2"
      },
      "source": [
        "Greetings all participants 👨‍👩‍👧‍👧"
      ]
    },
    {
      "cell_type": "code",
      "metadata": {
        "colab": {
          "base_uri": "https://localhost:8080/"
        },
        "id": "3gdlVmQdFeaN",
        "outputId": "dacc62ab-d1e4-416b-dfdd-5735090d7b90"
      },
      "source": [
        "print(\"Hello Ana\")\n",
        "print(\"Hope you're doing well\")\n",
        "\n",
        "print(\"Hello Bob\")\n",
        "print(\"Hope you're doing well\")\n",
        "\n",
        "print(\"Hello Clara\")\n",
        "print(\"Hope you're doing well\")"
      ],
      "execution_count": null,
      "outputs": [
        {
          "output_type": "stream",
          "name": "stdout",
          "text": [
            "Hello Ana\n",
            "Hope you're doing well\n",
            "Hello Bob\n",
            "Hope you're doing well\n",
            "Hello Clara\n",
            "Hope you're doing well\n"
          ]
        }
      ]
    },
    {
      "cell_type": "code",
      "metadata": {
        "colab": {
          "base_uri": "https://localhost:8080/"
        },
        "id": "iFD-n8trLQqE",
        "outputId": "d300c570-3e46-4cc4-bbc5-4488139f6cd4"
      },
      "source": [
        "# Just the name changes, let's introduce a vaiable called name ?\n",
        "name=\"Ana\"  # and change to Bob, then Clara\n",
        "print(\"Hello \" + name)\n",
        "print(\"Hope you're doing well\")"
      ],
      "execution_count": null,
      "outputs": [
        {
          "output_type": "stream",
          "name": "stdout",
          "text": [
            "Hello Ana\n",
            "Hope you're doing well\n"
          ]
        }
      ]
    },
    {
      "cell_type": "code",
      "metadata": {
        "colab": {
          "base_uri": "https://localhost:8080/",
          "height": 35
        },
        "id": "SdckPZ73NOkG",
        "outputId": "c0c04c50-7930-4ae1-8f3e-b84a0d678fd5"
      },
      "source": [
        "# Let's put all names in a list\n",
        "names=[\"Ana\",\"Bob\",\"Clara\"]\n",
        "names[0]\n",
        "names[1]\n",
        "names[2]"
      ],
      "execution_count": null,
      "outputs": [
        {
          "output_type": "execute_result",
          "data": {
            "application/vnd.google.colaboratory.intrinsic+json": {
              "type": "string"
            },
            "text/plain": [
              "'Clara'"
            ]
          },
          "metadata": {},
          "execution_count": 4
        }
      ]
    },
    {
      "cell_type": "code",
      "metadata": {
        "colab": {
          "base_uri": "https://localhost:8080/"
        },
        "id": "940JZLCwNjNH",
        "outputId": "f64fb761-7369-402d-c847-f0e61ea69112"
      },
      "source": [
        "# and let's loop inside the list\n",
        "names=[\"Ana\",\"Bob\",\"Clara\"]\n",
        "for name in names:\n",
        "  print(\"Hello \" + name)\n",
        "  print(\"Hope you're doing well\")"
      ],
      "execution_count": null,
      "outputs": [
        {
          "output_type": "stream",
          "name": "stdout",
          "text": [
            "Hello Ana\n",
            "Hope you're doing well\n",
            "Hello Bob\n",
            "Hope you're doing well\n",
            "Hello Clara\n",
            "Hope you're doing well\n"
          ]
        }
      ]
    },
    {
      "cell_type": "code",
      "metadata": {
        "colab": {
          "base_uri": "https://localhost:8080/"
        },
        "id": "XPEk-XGMMMB0",
        "outputId": "0719f1aa-f66c-480b-f5fb-f0be9bd32440"
      },
      "source": [
        "# Let's make the greetings more compact and \n",
        "# reusable by introducing a function\n",
        "\n",
        "# functions\n",
        "def greetings(name):\n",
        "  print(\"Hello \"+ name)\n",
        "  print(\"Hope you're doing well\")\n",
        "\n",
        "# data\n",
        "names=[\"Ana\",\"Bob\",\"Clara\"]\n",
        "\n",
        "# app\n",
        "for name in names:\n",
        "  greetings(name)\n"
      ],
      "execution_count": null,
      "outputs": [
        {
          "output_type": "stream",
          "name": "stdout",
          "text": [
            "Hello Ana\n",
            "Hope you're doing well\n",
            "Hello Bob\n",
            "Hope you're doing well\n",
            "Hello Clara\n",
            "Hope you're doing well\n"
          ]
        }
      ]
    },
    {
      "cell_type": "code",
      "metadata": {
        "colab": {
          "base_uri": "https://localhost:8080/"
        },
        "id": "r0jzgSPxUMcb",
        "outputId": "06586166-f584-415c-d706-0d05381e6985"
      },
      "source": [
        "# can we tell in which city each person leaves?\n",
        "# using a dictionary for that?\n",
        "\n",
        "# functions\n",
        "def greetings(name, city):\n",
        "  \"\"\" A fucntion taking a string argument and greeting the person\"\"\"\n",
        "  print(\"Hello \"+ name)\n",
        "  print(\"Hope you're doing well in \" + cities[name])\n",
        "\n",
        "# data\n",
        "names=[\"Ana\",\"Bob\",\"Clara\"]\n",
        "cities={\"Ana\":\"Paris\",\"Bob\":\"Strasbourg\",\"Clara\":\"Berlin\"}\n",
        "\n",
        "# app\n",
        "for name in names:\n",
        "  greetings(name, cities[name])\n"
      ],
      "execution_count": null,
      "outputs": [
        {
          "output_type": "stream",
          "name": "stdout",
          "text": [
            "Hello Ana\n",
            "Hope you're doing well in Paris\n",
            "Hello Bob\n",
            "Hope you're doing well in Strasbourg\n",
            "Hello Clara\n",
            "Hope you're doing well in Berlin\n"
          ]
        }
      ]
    },
    {
      "cell_type": "code",
      "metadata": {
        "colab": {
          "base_uri": "https://localhost:8080/"
        },
        "id": "rqJDFIq7OT1L",
        "outputId": "8f322ce4-95dd-49b3-ae20-7bdf4ab50652"
      },
      "source": [
        "# and adding a personalisation\n",
        "\n",
        "# functions\n",
        "def greetings(name, city):\n",
        "  \"\"\" A fucntion taking a string argument and greeting the person\"\"\"\n",
        "  print(\"Hello \"+ name)\n",
        "  print(\"Hope you're doing well in \" + cities[name])\n",
        "  if cities[name]==\"Strasbourg\":\n",
        "    print(\"My home city too!\")\n",
        "# data\n",
        "names=[\"Ana\",\"Bob\",\"Clara\"]\n",
        "cities={\"Ana\":\"Paris\",\"Bob\":\"Strasbourg\",\"Clara\":\"Berlin\"}\n",
        "\n",
        "# app\n",
        "for name in names:\n",
        "  greetings(name, cities[name])\n",
        "\n"
      ],
      "execution_count": null,
      "outputs": [
        {
          "output_type": "stream",
          "name": "stdout",
          "text": [
            "Hello Ana\n",
            "Hope you're doing well in Paris\n",
            "Hello Bob\n",
            "Hope you're doing well in Strasbourg\n",
            "My home city too!\n",
            "Hello Clara\n",
            "Hope you're doing well in Berlin\n"
          ]
        }
      ]
    }
  ]
}