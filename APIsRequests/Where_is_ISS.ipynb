{
  "nbformat": 4,
  "nbformat_minor": 0,
  "metadata": {
    "colab": {
      "name": "Where is ISS.ipynb",
      "provenance": [],
      "collapsed_sections": []
    },
    "kernelspec": {
      "name": "python3",
      "display_name": "Python 3"
    }
  },
  "cells": [
    {
      "cell_type": "markdown",
      "metadata": {
        "id": "Wi65q-V50H92"
      },
      "source": [
        "# Search for ISS (Interntional Space Station) in real time\n",
        "\n",
        "### 🎥 [Vidéo](https://youtu.be/B8GR3zkeuDc?t=3224)\n",
        "\n",
        "API at : http://api.open-notify.org/iss-now.json\n",
        "\n",
        "![](https://upload.wikimedia.org/wikipedia/commons/thumb/0/04/International_Space_Station_after_undocking_of_STS-132.jpg/640px-International_Space_Station_after_undocking_of_STS-132.jpg)\n",
        "\n",
        "(image Wikipedia)\n",
        "\n",
        "\n",
        "\n"
      ]
    },
    {
      "cell_type": "code",
      "metadata": {
        "id": "kjLI0CSWzucw"
      },
      "source": [
        "# imports and functions we need\n",
        "\n",
        "import requests\n",
        "import time\n",
        "import folium\n",
        "\n",
        "url = 'http://api.open-notify.org/iss-now.json'\n",
        "\n",
        "def issPosition(url):\n",
        "    r = requests.get(url).json()\n",
        "    longitude = r[\"iss_position\"][\"longitude\"]\n",
        "    latitude = r[\"iss_position\"][\"latitude\"]\n",
        "    position = \"ISS at longitude : \" + longitude + \" latitude \" + latitude\n",
        "    print(position)\n",
        "    return float(latitude), float(longitude)\n"
      ],
      "execution_count": null,
      "outputs": []
    },
    {
      "cell_type": "code",
      "metadata": {
        "colab": {
          "base_uri": "https://localhost:8080/"
        },
        "id": "4vsmdpqmz9FI",
        "outputId": "4965c9fe-57ad-4d60-c58c-819a7c2e0844"
      },
      "source": [
        "# looping the search each few seconds\n",
        "for i in range(5):\n",
        "    latitude, longitude = issPosition(url)\n",
        "    time.sleep(2)"
      ],
      "execution_count": null,
      "outputs": [
        {
          "output_type": "stream",
          "name": "stdout",
          "text": [
            "ISS at longitude : 33.3306 latitude 37.6922\n",
            "ISS at longitude : 33.4505 latitude 37.7723\n",
            "ISS at longitude : 33.5707 latitude 37.8524\n",
            "ISS at longitude : 33.7214 latitude 37.9522\n",
            "ISS at longitude : 33.8423 latitude 38.0320\n"
          ]
        }
      ]
    },
    {
      "cell_type": "code",
      "metadata": {
        "colab": {
          "base_uri": "https://localhost:8080/",
          "height": 422
        },
        "id": "SXW81F_s0PeQ",
        "outputId": "9e3a3113-4bfc-4a4d-9dde-5de639042c8e"
      },
      "source": [
        "# and where is ISS position on a world map now!\n",
        "print(latitude, longitude)\n",
        "m = folium.Map(location=[latitude, longitude],zoom_start=5,\n",
        "    tiles='Stamen Terrain')\n",
        "folium.Marker([latitude, longitude]).add_to(m)\n",
        "m"
      ],
      "execution_count": null,
      "outputs": [
        {
          "output_type": "stream",
          "name": "stdout",
          "text": [
            "38.032 33.8423\n"
          ]
        },
        {
          "output_type": "execute_result",
          "data": {
            "text/html": [
              "<div style=\"width:100%;\"><div style=\"position:relative;width:100%;height:0;padding-bottom:60%;\"><span style=\"color:#565656\">Make this Notebook Trusted to load map: File -> Trust Notebook</span><iframe src=\"about:blank\" style=\"position:absolute;width:100%;height:100%;left:0;top:0;border:none !important;\" data-html=%3C%21DOCTYPE%20html%3E%0A%3Chead%3E%20%20%20%20%0A%20%20%20%20%3Cmeta%20http-equiv%3D%22content-type%22%20content%3D%22text/html%3B%20charset%3DUTF-8%22%20/%3E%0A%20%20%20%20%3Cscript%3EL_PREFER_CANVAS%3Dfalse%3B%20L_NO_TOUCH%3Dfalse%3B%20L_DISABLE_3D%3Dfalse%3B%3C/script%3E%0A%20%20%20%20%3Cscript%20src%3D%22https%3A//cdn.jsdelivr.net/npm/leaflet%401.4.0/dist/leaflet.js%22%3E%3C/script%3E%0A%20%20%20%20%3Cscript%20src%3D%22https%3A//code.jquery.com/jquery-1.12.4.min.js%22%3E%3C/script%3E%0A%20%20%20%20%3Cscript%20src%3D%22https%3A//maxcdn.bootstrapcdn.com/bootstrap/3.2.0/js/bootstrap.min.js%22%3E%3C/script%3E%0A%20%20%20%20%3Cscript%20src%3D%22https%3A//cdnjs.cloudflare.com/ajax/libs/Leaflet.awesome-markers/2.0.2/leaflet.awesome-markers.js%22%3E%3C/script%3E%0A%20%20%20%20%3Clink%20rel%3D%22stylesheet%22%20href%3D%22https%3A//cdn.jsdelivr.net/npm/leaflet%401.4.0/dist/leaflet.css%22/%3E%0A%20%20%20%20%3Clink%20rel%3D%22stylesheet%22%20href%3D%22https%3A//maxcdn.bootstrapcdn.com/bootstrap/3.2.0/css/bootstrap.min.css%22/%3E%0A%20%20%20%20%3Clink%20rel%3D%22stylesheet%22%20href%3D%22https%3A//maxcdn.bootstrapcdn.com/bootstrap/3.2.0/css/bootstrap-theme.min.css%22/%3E%0A%20%20%20%20%3Clink%20rel%3D%22stylesheet%22%20href%3D%22https%3A//maxcdn.bootstrapcdn.com/font-awesome/4.6.3/css/font-awesome.min.css%22/%3E%0A%20%20%20%20%3Clink%20rel%3D%22stylesheet%22%20href%3D%22https%3A//cdnjs.cloudflare.com/ajax/libs/Leaflet.awesome-markers/2.0.2/leaflet.awesome-markers.css%22/%3E%0A%20%20%20%20%3Clink%20rel%3D%22stylesheet%22%20href%3D%22https%3A//rawcdn.githack.com/python-visualization/folium/master/folium/templates/leaflet.awesome.rotate.css%22/%3E%0A%20%20%20%20%3Cstyle%3Ehtml%2C%20body%20%7Bwidth%3A%20100%25%3Bheight%3A%20100%25%3Bmargin%3A%200%3Bpadding%3A%200%3B%7D%3C/style%3E%0A%20%20%20%20%3Cstyle%3E%23map%20%7Bposition%3Aabsolute%3Btop%3A0%3Bbottom%3A0%3Bright%3A0%3Bleft%3A0%3B%7D%3C/style%3E%0A%20%20%20%20%0A%20%20%20%20%3Cmeta%20name%3D%22viewport%22%20content%3D%22width%3Ddevice-width%2C%0A%20%20%20%20%20%20%20%20initial-scale%3D1.0%2C%20maximum-scale%3D1.0%2C%20user-scalable%3Dno%22%20/%3E%0A%20%20%20%20%3Cstyle%3E%23map_9a70d2f087de48ec811fbac5f78a6e5e%20%7B%0A%20%20%20%20%20%20%20%20position%3A%20relative%3B%0A%20%20%20%20%20%20%20%20width%3A%20100.0%25%3B%0A%20%20%20%20%20%20%20%20height%3A%20100.0%25%3B%0A%20%20%20%20%20%20%20%20left%3A%200.0%25%3B%0A%20%20%20%20%20%20%20%20top%3A%200.0%25%3B%0A%20%20%20%20%20%20%20%20%7D%0A%20%20%20%20%3C/style%3E%0A%3C/head%3E%0A%3Cbody%3E%20%20%20%20%0A%20%20%20%20%0A%20%20%20%20%3Cdiv%20class%3D%22folium-map%22%20id%3D%22map_9a70d2f087de48ec811fbac5f78a6e5e%22%20%3E%3C/div%3E%0A%3C/body%3E%0A%3Cscript%3E%20%20%20%20%0A%20%20%20%20%0A%20%20%20%20%0A%20%20%20%20%20%20%20%20var%20bounds%20%3D%20null%3B%0A%20%20%20%20%0A%0A%20%20%20%20var%20map_9a70d2f087de48ec811fbac5f78a6e5e%20%3D%20L.map%28%0A%20%20%20%20%20%20%20%20%27map_9a70d2f087de48ec811fbac5f78a6e5e%27%2C%20%7B%0A%20%20%20%20%20%20%20%20center%3A%20%5B38.032%2C%2033.8423%5D%2C%0A%20%20%20%20%20%20%20%20zoom%3A%205%2C%0A%20%20%20%20%20%20%20%20maxBounds%3A%20bounds%2C%0A%20%20%20%20%20%20%20%20layers%3A%20%5B%5D%2C%0A%20%20%20%20%20%20%20%20worldCopyJump%3A%20false%2C%0A%20%20%20%20%20%20%20%20crs%3A%20L.CRS.EPSG3857%2C%0A%20%20%20%20%20%20%20%20zoomControl%3A%20true%2C%0A%20%20%20%20%20%20%20%20%7D%29%3B%0A%0A%0A%20%20%20%20%0A%20%20%20%20var%20tile_layer_c15af0184052428c88fb0a86f93197ba%20%3D%20L.tileLayer%28%0A%20%20%20%20%20%20%20%20%27https%3A//stamen-tiles-%7Bs%7D.a.ssl.fastly.net/terrain/%7Bz%7D/%7Bx%7D/%7By%7D.jpg%27%2C%0A%20%20%20%20%20%20%20%20%7B%0A%20%20%20%20%20%20%20%20%22attribution%22%3A%20null%2C%0A%20%20%20%20%20%20%20%20%22detectRetina%22%3A%20false%2C%0A%20%20%20%20%20%20%20%20%22maxNativeZoom%22%3A%2018%2C%0A%20%20%20%20%20%20%20%20%22maxZoom%22%3A%2018%2C%0A%20%20%20%20%20%20%20%20%22minZoom%22%3A%200%2C%0A%20%20%20%20%20%20%20%20%22noWrap%22%3A%20false%2C%0A%20%20%20%20%20%20%20%20%22opacity%22%3A%201%2C%0A%20%20%20%20%20%20%20%20%22subdomains%22%3A%20%22abc%22%2C%0A%20%20%20%20%20%20%20%20%22tms%22%3A%20false%0A%7D%29.addTo%28map_9a70d2f087de48ec811fbac5f78a6e5e%29%3B%0A%20%20%20%20%0A%20%20%20%20%20%20%20%20var%20marker_e89ff14603334b1dae0a3657adc0fe5d%20%3D%20L.marker%28%0A%20%20%20%20%20%20%20%20%20%20%20%20%5B38.032%2C%2033.8423%5D%2C%0A%20%20%20%20%20%20%20%20%20%20%20%20%7B%0A%20%20%20%20%20%20%20%20%20%20%20%20%20%20%20%20icon%3A%20new%20L.Icon.Default%28%29%2C%0A%20%20%20%20%20%20%20%20%20%20%20%20%20%20%20%20%7D%0A%20%20%20%20%20%20%20%20%20%20%20%20%29.addTo%28map_9a70d2f087de48ec811fbac5f78a6e5e%29%3B%0A%20%20%20%20%20%20%20%20%0A%3C/script%3E onload=\"this.contentDocument.open();this.contentDocument.write(    decodeURIComponent(this.getAttribute('data-html')));this.contentDocument.close();\" allowfullscreen webkitallowfullscreen mozallowfullscreen></iframe></div></div>"
            ],
            "text/plain": [
              "<folium.folium.Map at 0x7f37abaa8fd0>"
            ]
          },
          "metadata": {},
          "execution_count": 3
        }
      ]
    },
    {
      "cell_type": "code",
      "metadata": {
        "colab": {
          "base_uri": "https://localhost:8080/"
        },
        "id": "Z-f9PxMrbgm3",
        "outputId": "5116991d-598d-4e6f-b572-146e7f2401e3"
      },
      "source": [
        "# Let's try to make a list of ISS position\n",
        "positions=[]\n",
        "\n",
        "for i in range(5):\n",
        "    positions.append(issPosition(url))\n",
        "    time.sleep(2)\n",
        "print(positions)\n"
      ],
      "execution_count": null,
      "outputs": [
        {
          "output_type": "stream",
          "text": [
            "ISS at longitude : -124.6418 latitude 47.4811\n",
            "ISS at longitude : -124.4324 latitude 47.4169\n",
            "ISS at longitude : -124.2653 latitude 47.3651\n",
            "ISS at longitude : -124.0985 latitude 47.3132\n",
            "ISS at longitude : -123.9320 latitude 47.2609\n",
            "[[-124.6418, 47.4811], [-124.4324, 47.4169], [-124.2653, 47.3651], [-124.0985, 47.3132], [-123.932, 47.2609]]\n"
          ],
          "name": "stdout"
        }
      ]
    },
    {
      "cell_type": "code",
      "metadata": {
        "colab": {
          "base_uri": "https://localhost:8080/",
          "height": 712
        },
        "id": "JTMtnnNyfsv6",
        "outputId": "4bb4c83c-cf1a-46e4-8f16-24247068d3c8"
      },
      "source": [
        "# careful! geojson takes longitude then latitude.\n",
        "\n",
        "path=\"\"  # a Geojson path\n",
        "\n",
        "# myLines = \"\"\"{\n",
        "#     \"type\": \"LineString\",\n",
        "#     \"coordinates\": [[-144.3245, 51.2237], [-144.1278, 51.2065], [-143.9313, 51.1888], [-143.7349, 51.1708], [-143.5387, 51.1525]]\n",
        "#     } \"\"\"\n",
        "\n",
        "path = \"\"\"{\n",
        "    \"type\": \"LineString\",\n",
        "    \"coordinates\": \"\"\" + str(positions) + \"\"\"} \"\"\"\n",
        "\n",
        "folium.GeoJson(\n",
        "    path,\n",
        "    name='geojson'\n",
        ").add_to(m)\n",
        "\n",
        "m"
      ],
      "execution_count": null,
      "outputs": [
        {
          "output_type": "execute_result",
          "data": {
            "text/html": [
              "<div style=\"width:100%;\"><div style=\"position:relative;width:100%;height:0;padding-bottom:60%;\"><span style=\"color:#565656\">Make this Notebook Trusted to load map: File -> Trust Notebook</span><iframe src=\"about:blank\" style=\"position:absolute;width:100%;height:100%;left:0;top:0;border:none !important;\" data-html=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 onload=\"this.contentDocument.open();this.contentDocument.write(atob(this.getAttribute('data-html')));this.contentDocument.close();\" allowfullscreen webkitallowfullscreen mozallowfullscreen></iframe></div></div>"
            ],
            "text/plain": [
              "<folium.folium.Map at 0x7f4c7b47d780>"
            ]
          },
          "metadata": {
            "tags": []
          },
          "execution_count": 35
        }
      ]
    }
  ]
}