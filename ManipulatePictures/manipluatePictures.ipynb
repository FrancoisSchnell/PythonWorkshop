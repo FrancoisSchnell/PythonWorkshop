{
 "cells": [
  {
   "cell_type": "markdown",
   "metadata": {},
   "source": [
    "# 🖼️ Pictures manipulation\n",
    "## 🎯 Possible challenges\n",
    "\n",
    "Libray doc [https://pillow.readthedocs.io/en/stable/](https://pillow.readthedocs.io/en/stable/index.html)\n",
    "\n",
    "Images de work with : https://seafile.unistra.fr/d/8831e36300e64aa386ac/\n",
    "\n",
    "- 📏 get image format and size\n",
    "- 🔬 resize to create a thumbnail\n",
    "- 🗃️ change format (jpg to webp)\n",
    "- 🍷 change jpg quality (and threfore image size, compare)\n",
    "- 📂 batch work in a folder?\n",
    "- 👨🏻‍🤝‍👨🏻 spot difference between 2 pictures?\n",
    "- 🌫️ blur part of picture?\n",
    "- 🟩 playing with RGB channels?\n",
    "- ⏹️ B&W like print (Floyd-Steinberg Dithering)\n",
    "- 🌐 extract GPS informations?\n",
    "- ✍️ write text on picture?\n",
    "- ✍️ write pixel, lines, etc on picture?\n",
    "- 🖼️ grab a screenshot?\n",
    "- 🎞️ make a screenshot-timelapse?\n"
   ]
  },
  {
   "cell_type": "markdown",
   "metadata": {},
   "source": [
    "### 📚Imports"
   ]
  },
  {
   "cell_type": "code",
   "execution_count": 2,
   "metadata": {},
   "outputs": [],
   "source": [
    "# import PIL Image\n",
    "from PIL import Image"
   ]
  },
  {
   "cell_type": "markdown",
   "metadata": {},
   "source": [
    "### 📏 Get image size and format"
   ]
  },
  {
   "cell_type": "code",
   "execution_count": 3,
   "metadata": {},
   "outputs": [
    {
     "name": "stdout",
     "output_type": "stream",
     "text": [
      "JPEG\n",
      "(3072, 2048)\n",
      "RGB\n"
     ]
    }
   ],
   "source": [
    "# Get image size and format\n",
    "\n",
    "im= Image.open('test1.jpg')\n",
    "print(im.format)\n",
    "print(im.size)\n",
    "print(im.mode)"
   ]
  },
  {
   "cell_type": "markdown",
   "metadata": {},
   "source": [
    "### 🔬 Create a thumbnail"
   ]
  },
  {
   "cell_type": "code",
   "execution_count": 13,
   "metadata": {},
   "outputs": [
    {
     "data": {
      "image/png": "[encoded data removed]",
      "text/plain": [
       "<PIL.Image.Image image mode=RGB size=160x90>"
      ]
     },
     "execution_count": 13,
     "metadata": {},
     "output_type": "execute_result"
    }
   ],
   "source": [
    "# Create a thmbnail\n",
    "\n",
    "im= Image.open('test1.jpg')\n",
    "resized = im.resize((160,90))\n",
    "resized.save(\"test1_thumb.jpg\")\n",
    "resized"
   ]
  },
  {
   "cell_type": "markdown",
   "metadata": {},
   "source": [
    "### 🗃️ Change format : exp. jpg to png "
   ]
  },
  {
   "cell_type": "code",
   "execution_count": 14,
   "metadata": {},
   "outputs": [],
   "source": [
    "# Change format : expl. jpg to png (search format in doc)\n",
    "\n",
    "im= Image.open('test1.jpg')\n",
    "im.save(\"test1.webp\")"
   ]
  },
  {
   "cell_type": "code",
   "execution_count": 15,
   "metadata": {},
   "outputs": [
    {
     "name": "stdout",
     "output_type": "stream",
     "text": [
      "test1.jpg 1.223144\n",
      "test1.webp 0.424352\n"
     ]
    }
   ],
   "source": [
    "# Show file size difference in Mo\n",
    "import os\n",
    "print(\"test1.jpg\", os.path.getsize(\"test1.jpg\")/1000000)\n",
    "print(\"test1.webp\", os.path.getsize(\"test1.webp\")/1000000)"
   ]
  },
  {
   "cell_type": "markdown",
   "metadata": {},
   "source": [
    "### 🍷 Change jpg quality"
   ]
  },
  {
   "cell_type": "code",
   "execution_count": 16,
   "metadata": {},
   "outputs": [],
   "source": [
    "# change jpg quality (and threfore image size, compare)\n",
    "img= Image.open('test1.jpg')\n",
    "img.save(\"test1_quality1.jpg\", quality=1)"
   ]
  },
  {
   "cell_type": "markdown",
   "metadata": {},
   "source": [
    "### 📂 batch work in folder"
   ]
  },
  {
   "cell_type": "code",
   "execution_count": 17,
   "metadata": {},
   "outputs": [
    {
     "name": "stdout",
     "output_type": "stream",
     "text": [
      "['foret.jpg', 'manipluatePictures.ipynb', 'readme.md', 'test.ipynb', 'test1.jpg', 'test2.jpg']\n",
      "['foret.jpg', 'test1.jpg', 'test2.jpg']\n"
     ]
    }
   ],
   "source": [
    "# search all .jpg files in current folder and save them ot webp format\n",
    "import os\n",
    "\n",
    "# get all files in the folder\n",
    "files = os.listdir()\n",
    "print(files)\n",
    "\n",
    "# filter the wanted files (for expl .jpg)\n",
    "images=[]\n",
    "for file in files:\n",
    "    if '.jpg' in file:\n",
    "        images.append(file)\n",
    "print(images)\n",
    "\n",
    "# do somthing with it\n",
    "for image in images:\n",
    "    im= Image.open(image)\n",
    "    im.save(image.split(\".jpg\")[0]+\".webp\")"
   ]
  },
  {
   "cell_type": "markdown",
   "metadata": {},
   "source": [
    "### 👨🏻‍🤝‍👨🏻 spot difference between 2 pictures"
   ]
  },
  {
   "cell_type": "code",
   "execution_count": 18,
   "metadata": {},
   "outputs": [],
   "source": [
    "from PIL import Image, ImageChops\n",
    "\n",
    "im1 = Image.open(\"test1.jpg\")\n",
    "im2 = Image.open(\"test2.jpg\")\n",
    "\n",
    "# substract the two images\n",
    "diff = ImageChops.difference(im1, im2)\n",
    "\n",
    "# showing the difference\n",
    "diff.show()\n",
    "diff.save(\"twinDiff.jpg\")"
   ]
  },
  {
   "cell_type": "markdown",
   "metadata": {},
   "source": [
    "### 🌫️ blur part of picture?"
   ]
  },
  {
   "cell_type": "code",
   "execution_count": 22,
   "metadata": {},
   "outputs": [],
   "source": [
    "from PIL import Image, ImageFilter\n",
    "\n",
    "im = Image.open('test2.jpg')\n",
    "# search top-left and bottom-right zone to blur with Paint for expl.\n",
    "box = (564, 1230, 987, 1534)\n",
    "# extract this zone\n",
    "crop_img = im.crop(box)\n",
    "# blur it\n",
    "blur_image = crop_img.filter(ImageFilter.GaussianBlur(radius=10))\n",
    "# past it back on the original picture\n",
    "im.paste(blur_image, box)\n",
    "im.save('test2_blured.jpg')\n",
    "im.show()"
   ]
  },
  {
   "cell_type": "markdown",
   "metadata": {},
   "source": [
    "### 🟩 playing with RGB channels?"
   ]
  },
  {
   "cell_type": "code",
   "execution_count": 23,
   "metadata": {},
   "outputs": [],
   "source": [
    "# Let's make our picture more 50% greener\n",
    "\n",
    "from PIL import Image\n",
    "\n",
    "# split R, G, B channels\n",
    "im=Image.open(\"test1.jpg\")\n",
    "channels = im.split()\n",
    "if 1: \n",
    "    channels[0].show() # Red\n",
    "    channels[1].show() # Green\n",
    "    channels[2].show() # Blue\n",
    "\n",
    "# enhance the green channel\n",
    "out = channels[1].point(lambda i: int(i * 1.5))\n",
    "out.show()\n",
    "\n",
    "imFiltered = Image.merge( 'RGB', (channels[0], out, channels[2]))\n",
    "imFiltered.show()\n",
    "\n",
    "# more advanced : using masks https://pillow.readthedocs.io/en/stable/handbook/tutorial.html#point-operations"
   ]
  },
  {
   "cell_type": "markdown",
   "metadata": {},
   "source": [
    " ### ⏹️ B&W like print (Floyd-Steinberg Dithering)"
   ]
  },
  {
   "cell_type": "code",
   "execution_count": 24,
   "metadata": {},
   "outputs": [],
   "source": [
    "img= Image.open('test2.jpg')\n",
    "imgLight= img.convert(\"1\") # see modes in doc \"1\": black or \"white\" only\n",
    "imgLight.show()"
   ]
  },
  {
   "cell_type": "markdown",
   "metadata": {},
   "source": [
    "### 🌐 extract GPS informations"
   ]
  },
  {
   "cell_type": "code",
   "execution_count": 25,
   "metadata": {},
   "outputs": [
    {
     "name": "stdout",
     "output_type": "stream",
     "text": [
      "{256: 3024, 257: 4032, 34853: {1: 'N', 2: (48.0, 13.0, 32.26), 3: 'E', 4: (7.0, 19.0, 56.7), 5: b'\\x00', 6: 470.1, 7: (11.0, 15.0, 29.0), 16: 'M', 17: 200.0, 29: '2022:07:09'}, 296: 2, 34665: 243, 271: 'Google', 272: 'Pixel 3a', 305: 'HDR+ 1.0.450594208zd', 274: 1, 306: '2022:07:09 13:15:35', 531: 1, 282: 72.0, 283: 72.0, 36864: b'0232', 37121: b'\\x01\\x02\\x03\\x00', 37377: 8.96, 36867: '2022:07:09 13:15:35', 36868: '2022:07:09 13:15:35', 37378: 1.7, 37379: 6.69, 37380: 0.0, 37381: 1.7, 37382: 0.936, 37383: 2, 37385: 16, 37386: 4.44, 40961: 1, 40962: 3024, 41990: 0, 36880: '+02:00', 36881: '+02:00', 36882: '+02:00', 37520: '201', 37521: '201', 37522: '201', 40963: 4032, 41495: 2, 33434: 0.002003, 40965: 947, 33437: 1.8, 41729: b'\\x01', 34850: 2, 41985: 1, 34855: 49, 41986: 0, 40960: b'0100', 41987: 0, 42035: 'Google', 42036: 'Pixel 3a back camera 4.44mm f/1.8', 41988: 2.0, 41989: 27, 41992: 0, 41993: 0, 41994: 0, 41996: 1, 42080: 3}\n"
     ]
    }
   ],
   "source": [
    "from PIL import Image\n",
    "from PIL.ExifTags import TAGS, GPSTAGS\n",
    "\n",
    "exif = Image.open(\"foret.jpg\")._getexif()\n",
    "\n",
    "# show exif metadata\n",
    "print(exif)\n"
   ]
  },
  {
   "cell_type": "code",
   "execution_count": 26,
   "metadata": {},
   "outputs": [
    {
     "name": "stdout",
     "output_type": "stream",
     "text": [
      "{1: 'N', 2: (48.0, 13.0, 32.26), 3: 'E', 4: (7.0, 19.0, 56.7), 5: b'\\x00', 6: 470.1, 7: (11.0, 15.0, 29.0), 16: 'M', 17: 200.0, 29: '2022:07:09'}\n"
     ]
    }
   ],
   "source": [
    "# extract GPS dictionary\n",
    "print(exif[34853])"
   ]
  },
  {
   "cell_type": "code",
   "execution_count": 27,
   "metadata": {},
   "outputs": [
    {
     "name": "stdout",
     "output_type": "stream",
     "text": [
      "latitude N 48.0 13.0 32.26\n",
      "longitude E 7.0 19.0 56.7\n"
     ]
    }
   ],
   "source": [
    "# extract latitude and longitude (degrees, minutes, seconds)\n",
    "# https://fr.wikihow.com/%C3%A9crire-une-latitude-et-une-longitude\n",
    "latitudeText = exif[34853][1]+\" \"+ str(exif[34853][2][0])+\" \"+ str(exif[34853][2][1])+\" \"+ str(exif[34853][2][2])\n",
    "longitudeText = exif[34853][3]+\" \"+ str(exif[34853][4][0])+\" \"+ str(exif[34853][4][1])+\" \"+ str(exif[34853][4][2])\n",
    "print(\"latitude\", latitudeText)\n",
    "print(\"longitude\",longitudeText)"
   ]
  },
  {
   "cell_type": "code",
   "execution_count": 53,
   "metadata": {},
   "outputs": [
    {
     "name": "stdout",
     "output_type": "stream",
     "text": [
      "48.22562777777778 7.332416666666666\n"
     ]
    }
   ],
   "source": [
    "# convert in decimal format\n",
    "\n",
    "latitude = exif[34853][2][0] + float((exif[34853][2][1])/60) + float((exif[34853][2][2])/3600)\n",
    "longitude = exif[34853][4][0] + float((exif[34853][4][1])/60) + float((exif[34853][4][2])/3600)\n",
    "if exif[34853][1]==\"S\":\n",
    "    latitude= -latitude\n",
    "if exif[34853][3]==\"W\":\n",
    "    longitude= -longitude\n",
    "print(latitude, longitude)"
   ]
  },
  {
   "cell_type": "markdown",
   "metadata": {},
   "source": [
    "### ✍️ write text on picture?"
   ]
  },
  {
   "cell_type": "code",
   "execution_count": 28,
   "metadata": {},
   "outputs": [],
   "source": [
    "from PIL import Image\n",
    "from PIL import ImageFont\n",
    "from PIL import ImageDraw \n",
    "\n",
    "img = Image.open(\"foret.jpg\")\n",
    "draw = ImageDraw.Draw(img)\n",
    "font = ImageFont.truetype(\"arial.ttf\", 50)\n",
    "draw.text((0, 0),latitudeText +\" \" + longitudeText,(255,255,255),font=font)\n",
    "img.show()"
   ]
  },
  {
   "cell_type": "markdown",
   "metadata": {},
   "source": [
    "### ✍️ write pixels, lines, etc?"
   ]
  },
  {
   "cell_type": "code",
   "execution_count": 29,
   "metadata": {},
   "outputs": [],
   "source": [
    "from PIL import Image\n",
    "img = Image.new(\"RGB\", (100, 100), (255, 255, 255))\n",
    "for x in range(100):\n",
    "    img.putpixel( (x, x), (0, 0, 0, 255) )\n",
    "img.show()"
   ]
  },
  {
   "cell_type": "markdown",
   "metadata": {},
   "source": [
    "### 🖼️ grab a screenshot?"
   ]
  },
  {
   "cell_type": "code",
   "execution_count": 1,
   "metadata": {},
   "outputs": [],
   "source": [
    "from PIL import Image, ImageGrab\n",
    "\n",
    "# grab main screen screenshot\n",
    "im = ImageGrab.grab()\n",
    "im.save(\"screenshot.png\")\n",
    "\n",
    "# grab box in a screen\n",
    "bbox = (300, 300, 550, 550)\n",
    "im = ImageGrab.grab(bbox)\n",
    "im.show()\n",
    "\n",
    "# grab all screens\n",
    "bbox = (300, 300, 550, 550)\n",
    "im = ImageGrab.grab(all_screens=True)\n",
    "im.show()\n"
   ]
  },
  {
   "cell_type": "markdown",
   "metadata": {},
   "source": [
    "### 🎞️ make a screenshot-timelapse?"
   ]
  },
  {
   "cell_type": "code",
   "execution_count": null,
   "metadata": {},
   "outputs": [],
   "source": [
    "# same as to grab a screenshot but with a loop, time.sleep(seconds), iterating 1.jpg 2.jpg 3.jpg etc\n",
    "# drag the pictures folder in a video editing software like Davinci Resolve Free edition\n",
    "# or programmaticaly with FFMPEG "
   ]
  }
 ],
 "metadata": {
  "kernelspec": {
   "display_name": "Python 3.10.4 64-bit",
   "language": "python",
   "name": "python3"
  },
  "language_info": {
   "codemirror_mode": {
    "name": "ipython",
    "version": 3
   },
   "file_extension": ".py",
   "mimetype": "text/x-python",
   "name": "python",
   "nbconvert_exporter": "python",
   "pygments_lexer": "ipython3",
   "version": "3.10.7"
  },
  "orig_nbformat": 4,
  "vscode": {
   "interpreter": {
    "hash": "59655c26aa3b90ca36681f4bd8f510beba9d6a6f306fa00ec1a90677131c9b97"
   }
  }
 },
 "nbformat": 4,
 "nbformat_minor": 2
}
