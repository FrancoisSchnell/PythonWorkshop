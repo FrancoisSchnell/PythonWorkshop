{
 "cells": [
  {
   "cell_type": "markdown",
   "metadata": {},
   "source": [
    "# 🖼️ Pictures manipulation\n",
    "## 🎯 Possible challenges\n",
    "- change a picture size?\n",
    "- make it fuzzy (or just a part)?\n",
    "- spot difference between 2 pictures (astronomy? or game?)\n",
    "- extract GPS informations if present?\n",
    "- create an artistic filter?\n",
    "- make a screenshot script?\n",
    "- make a screenshot-timelapse script?"
   ]
  },
  {
   "cell_type": "code",
   "execution_count": null,
   "metadata": {},
   "outputs": [],
   "source": []
  }
 ],
 "metadata": {
  "kernelspec": {
   "display_name": "Python 3.10.4 64-bit",
   "language": "python",
   "name": "python3"
  },
  "language_info": {
   "codemirror_mode": {
    "name": "ipython",
    "version": 3
   },
   "file_extension": ".py",
   "mimetype": "text/x-python",
   "name": "python",
   "nbconvert_exporter": "python",
   "pygments_lexer": "ipython3",
   "version": "3.10.4"
  },
  "orig_nbformat": 4,
  "vscode": {
   "interpreter": {
    "hash": "59655c26aa3b90ca36681f4bd8f510beba9d6a6f306fa00ec1a90677131c9b97"
   }
  }
 },
 "nbformat": 4,
 "nbformat_minor": 2
}
