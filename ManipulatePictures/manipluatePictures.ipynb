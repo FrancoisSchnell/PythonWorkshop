{
 "cells": [
  {
   "cell_type": "markdown",
   "metadata": {},
   "source": [
    "# 🖼️ Pictures manipulation\n",
    "## 🎯 Possible challenges\n",
    "\n",
    "Libray doc [https://pillow.readthedocs.io/en/stable/](https://pillow.readthedocs.io/en/stable/index.html)\n",
    "\n",
    "- get image format and size\n",
    "- change size to create a thumbnail?\n",
    "- change format?\n",
    "- change jpg quality (and threfore image size, compare)\n",
    "- batch work in a folder?\n",
    "- make it fuzzy (or just a part)?\n",
    "- spot difference between 2 pictures (astronomy? or game?)\n",
    "- create a filter?\n",
    "- make a screenshot script?\n",
    "- extract GPS informations if present?\n",
    "- make a screenshot-timelapse script?\n"
   ]
  },
  {
   "cell_type": "code",
   "execution_count": null,
   "metadata": {},
   "outputs": [],
   "source": [
    "# import PIL Image\n",
    "from PIL import Image"
   ]
  },
  {
   "cell_type": "code",
   "execution_count": 12,
   "metadata": {},
   "outputs": [
    {
     "name": "stdout",
     "output_type": "stream",
     "text": [
      "JPEG\n",
      "(1239, 929)\n"
     ]
    }
   ],
   "source": [
    "# Get image size and format\n",
    "\n",
    "img= Image.open('test.jpg')\n",
    "print(img.format)\n",
    "print(img.size)"
   ]
  },
  {
   "cell_type": "code",
   "execution_count": 13,
   "metadata": {},
   "outputs": [],
   "source": [
    "# Create a 10px tumbnail\n",
    "\n",
    "img= Image.open('test.jpg')\n",
    "img.thumbnail((100,100))\n",
    "img.save(\"testThumb.jpg\",\"JPEG\")"
   ]
  },
  {
   "cell_type": "code",
   "execution_count": 18,
   "metadata": {},
   "outputs": [],
   "source": [
    "# Change format : expl. jpg to png (search format in doc)\n",
    "\n",
    "img= Image.open('test.jpg')\n",
    "img.save(\"testNewFormat.png\",\"PNG\")"
   ]
  },
  {
   "cell_type": "code",
   "execution_count": 19,
   "metadata": {},
   "outputs": [],
   "source": [
    "# change jpg quality (and threfore image size, compare)\n",
    "img= Image.open('test.jpg')\n",
    "img.save(\"testqual.jpg\", quality=10)"
   ]
  },
  {
   "cell_type": "code",
   "execution_count": 28,
   "metadata": {},
   "outputs": [
    {
     "name": "stdout",
     "output_type": "stream",
     "text": [
      "['manipluatePictures.ipynb', 'readme.md', 'test.jpg', 'testNewFormat.png', 'testqual.jpg', 'testThumb.jpg']\n",
      "detected jpg in test.jpg\n",
      "detected jpg in testqual.jpg\n",
      "detected jpg in testThumb.jpg\n",
      "['test.jpg', 'testqual.jpg', 'testThumb.jpg']\n"
     ]
    }
   ],
   "source": [
    "# search all files in a folder to do something with it\n",
    "\n",
    "import os\n",
    "\n",
    "# get all files in the folder\n",
    "files = os.listdir()\n",
    "print(files)\n",
    "\n",
    "# filter the wanted files (for expl. .jpg)\n",
    "images=[]\n",
    "for file in files:\n",
    "    if '.jpg' in file:\n",
    "        images.append(file)\n",
    "print(images)\n",
    "\n",
    "# do somthng with it\n",
    "for image in images:\n",
    "    img= Image.open(image)\n",
    "    # do something for each image\n",
    "    img.close()\n"
   ]
  },
  {
   "cell_type": "code",
   "execution_count": null,
   "metadata": {},
   "outputs": [],
   "source": []
  }
 ],
 "metadata": {
  "kernelspec": {
   "display_name": "Python 3.10.4 64-bit",
   "language": "python",
   "name": "python3"
  },
  "language_info": {
   "codemirror_mode": {
    "name": "ipython",
    "version": 3
   },
   "file_extension": ".py",
   "mimetype": "text/x-python",
   "name": "python",
   "nbconvert_exporter": "python",
   "pygments_lexer": "ipython3",
   "version": "3.10.4"
  },
  "orig_nbformat": 4,
  "vscode": {
   "interpreter": {
    "hash": "59655c26aa3b90ca36681f4bd8f510beba9d6a6f306fa00ec1a90677131c9b97"
   }
  }
 },
 "nbformat": 4,
 "nbformat_minor": 2
}
