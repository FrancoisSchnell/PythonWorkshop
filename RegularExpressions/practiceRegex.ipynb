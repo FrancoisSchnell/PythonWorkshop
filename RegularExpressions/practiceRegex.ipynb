{
 "cells": [
  {
   "cell_type": "markdown",
   "metadata": {},
   "source": [
    "# 🔡 regular expressions with Python\n",
    "\n",
    "See this [Notion for regular expressions](https://francoisschnell.notion.site/Regular-expressions-0a0a9657219241e5b6bff88acdd0a0e7)"
   ]
  },
  {
   "cell_type": "markdown",
   "metadata": {},
   "source": [
    "### ➡️ Find and Replace"
   ]
  },
  {
   "cell_type": "code",
   "execution_count": 2,
   "metadata": {},
   "outputs": [
    {
     "name": "stdout",
     "output_type": "stream",
     "text": [
      "Welcome to the lab, learning regular expressions at the lab\n",
      "<class 'callable_iterator'>\n",
      "<re.Match object; span=(15, 18), match='lab'>\n",
      "<re.Match object; span=(56, 59), match='lab'>\n"
     ]
    }
   ],
   "source": [
    "# FIND ALL match with position in text\n",
    "import re\n",
    "\n",
    "text= 'Welcome to the lab, learning regular expressions at the lab'\n",
    "\n",
    "matches= re.finditer('lab', text)\n",
    "\n",
    "print(text)\n",
    "print(type(matches))\n",
    "for match in matches:\n",
    "    print(match)"
   ]
  },
  {
   "cell_type": "code",
   "execution_count": 3,
   "metadata": {},
   "outputs": [
    {
     "name": "stdout",
     "output_type": "stream",
     "text": [
      "Welcome to the LAB, learning regular expressions at the LAB\n"
     ]
    }
   ],
   "source": [
    "# FIND ALL AND REPLACE\n",
    "import re\n",
    "\n",
    "text= 'Welcome to the lab, learning regular expressions at the lab'\n",
    "\n",
    "result= re.sub('lab', 'LAB', text)\n",
    "\n",
    "print(result)\n"
   ]
  },
  {
   "cell_type": "markdown",
   "metadata": {},
   "source": [
    "### 🎯 Let's practice regular expressions"
   ]
  },
  {
   "cell_type": "markdown",
   "metadata": {},
   "source": [
    "- `a`, `X`, `9`, `<`  **ordinary characters** just match themselves exactly.\n",
    "- `. ^ $ * + ? { \\ | ( )` **meta-characters** which have **special meanings**\n",
    "- `\\`  **inhibit the “specialness”** (example: `\\.` to match a .)\n",
    "- `.` (a period) any character except newline ‘\\n’\n",
    "- `\\d` digit (0-9)\n",
    "- `\\D` not a digit (0-9)\n",
    "- `\\w`  word character (a-z, A-Z, 0-9,_) `[a-zA-Z0-9\\_]`\n",
    "- `\\W` not a word character\n",
    "- `\\s` whitespace (space, tab, newline)\n",
    "- `\\S` not whitespace\n",
    "- `\\b` boundary between word characters and non-word characters\n",
    "- `\\B` not boundary\n",
    "- `^`  beginning of a string\n",
    "- `$` end of a string\n",
    "- `*` 0 or more\n",
    "- `+` 1 or more\n",
    "- `?` 0 or one\n",
    "- `{3}` exact number\n",
    "- `{3,5}` range of numbers max to min\n",
    "- `[abc]` a b or c"
   ]
  },
  {
   "cell_type": "code",
   "execution_count": null,
   "metadata": {},
   "outputs": [],
   "source": [
    "\n",
    "text=\"\"\"\n",
    "abcdefghijklmnopqrstuvxyz\n",
    "ABCDEFGHIJKLMNOPQRSTUVXYZ\n",
    "0123456789\n",
    "\n",
    "albert.einstein@relativity.com\n",
    "ai@gmail.com\n",
    "\n",
    "03.68.85.00.16\n",
    "03 68 85 00 00\n",
    "0368850730\n",
    "\n",
    "4 rue Blaise Pascal, 67081  STRASBOURG CEDEX\n",
    "\"\"\""
   ]
  }
 ],
 "metadata": {
  "kernelspec": {
   "display_name": "Python 3.10.4 64-bit",
   "language": "python",
   "name": "python3"
  },
  "language_info": {
   "codemirror_mode": {
    "name": "ipython",
    "version": 3
   },
   "file_extension": ".py",
   "mimetype": "text/x-python",
   "name": "python",
   "nbconvert_exporter": "python",
   "pygments_lexer": "ipython3",
   "version": "3.10.4"
  },
  "orig_nbformat": 4,
  "vscode": {
   "interpreter": {
    "hash": "59655c26aa3b90ca36681f4bd8f510beba9d6a6f306fa00ec1a90677131c9b97"
   }
  }
 },
 "nbformat": 4,
 "nbformat_minor": 2
}
